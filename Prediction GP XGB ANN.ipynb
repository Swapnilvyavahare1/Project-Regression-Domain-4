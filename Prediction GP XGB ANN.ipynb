{
 "cells": [
  {
   "cell_type": "code",
   "execution_count": 1,
   "id": "10aa56cc",
   "metadata": {},
   "outputs": [],
   "source": [
    "import numpy as np\n",
    "import pandas as pd\n",
    "import matplotlib.pyplot as plt\n",
    "from sklearn import preprocessing\n",
    "import warnings\n",
    "warnings.filterwarnings('ignore')"
   ]
  },
  {
   "cell_type": "code",
   "execution_count": 2,
   "id": "0c6aaf9b",
   "metadata": {},
   "outputs": [],
   "source": [
    "from sklearn.model_selection import RandomizedSearchCV\n",
    "from sklearn.model_selection import RepeatedKFold\n",
    "from sklearn.preprocessing import StandardScaler"
   ]
  },
  {
   "cell_type": "code",
   "execution_count": 3,
   "id": "51179126",
   "metadata": {},
   "outputs": [
    {
     "data": {
      "text/html": [
       "<div>\n",
       "<style scoped>\n",
       "    .dataframe tbody tr th:only-of-type {\n",
       "        vertical-align: middle;\n",
       "    }\n",
       "\n",
       "    .dataframe tbody tr th {\n",
       "        vertical-align: top;\n",
       "    }\n",
       "\n",
       "    .dataframe thead th {\n",
       "        text-align: right;\n",
       "    }\n",
       "</style>\n",
       "<table border=\"1\" class=\"dataframe\">\n",
       "  <thead>\n",
       "    <tr style=\"text-align: right;\">\n",
       "      <th></th>\n",
       "      <th>Part filling degree</th>\n",
       "      <th>PartRate wl</th>\n",
       "      <th>PartRate hl</th>\n",
       "      <th>PartRate wh</th>\n",
       "      <th>Part height</th>\n",
       "      <th>Part Bottom area</th>\n",
       "      <th>Total filling degree</th>\n",
       "      <th>TotalRate wl</th>\n",
       "      <th>TotalRate hl</th>\n",
       "      <th>TotalRate wh</th>\n",
       "      <th>Bottom area</th>\n",
       "      <th>Heigh</th>\n",
       "      <th>NumPart</th>\n",
       "    </tr>\n",
       "  </thead>\n",
       "  <tbody>\n",
       "    <tr>\n",
       "      <th>0</th>\n",
       "      <td>8.996</td>\n",
       "      <td>0.100</td>\n",
       "      <td>0.079</td>\n",
       "      <td>1.267</td>\n",
       "      <td>48.395</td>\n",
       "      <td>1286.173</td>\n",
       "      <td>8.280</td>\n",
       "      <td>0.541</td>\n",
       "      <td>0.450</td>\n",
       "      <td>1.202</td>\n",
       "      <td>2585.639</td>\n",
       "      <td>311.0000</td>\n",
       "      <td>45</td>\n",
       "    </tr>\n",
       "    <tr>\n",
       "      <th>1</th>\n",
       "      <td>20.317</td>\n",
       "      <td>1.294</td>\n",
       "      <td>0.673</td>\n",
       "      <td>1.923</td>\n",
       "      <td>59.242</td>\n",
       "      <td>468.536</td>\n",
       "      <td>17.022</td>\n",
       "      <td>0.553</td>\n",
       "      <td>0.264</td>\n",
       "      <td>2.096</td>\n",
       "      <td>2480.893</td>\n",
       "      <td>176.7000</td>\n",
       "      <td>59</td>\n",
       "    </tr>\n",
       "    <tr>\n",
       "      <th>2</th>\n",
       "      <td>25.118</td>\n",
       "      <td>1.211</td>\n",
       "      <td>0.366</td>\n",
       "      <td>3.310</td>\n",
       "      <td>35.281</td>\n",
       "      <td>548.913</td>\n",
       "      <td>15.891</td>\n",
       "      <td>0.538</td>\n",
       "      <td>0.428</td>\n",
       "      <td>1.258</td>\n",
       "      <td>2581.136</td>\n",
       "      <td>296.4183</td>\n",
       "      <td>115</td>\n",
       "    </tr>\n",
       "    <tr>\n",
       "      <th>3</th>\n",
       "      <td>9.129</td>\n",
       "      <td>1.211</td>\n",
       "      <td>0.436</td>\n",
       "      <td>2.779</td>\n",
       "      <td>82.302</td>\n",
       "      <td>1012.383</td>\n",
       "      <td>6.892</td>\n",
       "      <td>0.528</td>\n",
       "      <td>0.528</td>\n",
       "      <td>1.000</td>\n",
       "      <td>2508.800</td>\n",
       "      <td>363.7444</td>\n",
       "      <td>41</td>\n",
       "    </tr>\n",
       "    <tr>\n",
       "      <th>4</th>\n",
       "      <td>10.079</td>\n",
       "      <td>0.835</td>\n",
       "      <td>0.279</td>\n",
       "      <td>2.989</td>\n",
       "      <td>29.148</td>\n",
       "      <td>315.591</td>\n",
       "      <td>10.541</td>\n",
       "      <td>0.536</td>\n",
       "      <td>0.113</td>\n",
       "      <td>4.753</td>\n",
       "      <td>2477.000</td>\n",
       "      <td>76.6857</td>\n",
       "      <td>27</td>\n",
       "    </tr>\n",
       "  </tbody>\n",
       "</table>\n",
       "</div>"
      ],
      "text/plain": [
       "   Part filling degree  PartRate wl  PartRate hl  PartRate wh  Part height  \\\n",
       "0                8.996        0.100        0.079        1.267       48.395   \n",
       "1               20.317        1.294        0.673        1.923       59.242   \n",
       "2               25.118        1.211        0.366        3.310       35.281   \n",
       "3                9.129        1.211        0.436        2.779       82.302   \n",
       "4               10.079        0.835        0.279        2.989       29.148   \n",
       "\n",
       "   Part Bottom area  Total filling degree  TotalRate wl  TotalRate hl  \\\n",
       "0          1286.173                 8.280         0.541         0.450   \n",
       "1           468.536                17.022         0.553         0.264   \n",
       "2           548.913                15.891         0.538         0.428   \n",
       "3          1012.383                 6.892         0.528         0.528   \n",
       "4           315.591                10.541         0.536         0.113   \n",
       "\n",
       "   TotalRate wh  Bottom area    Heigh   NumPart  \n",
       "0         1.202     2585.639  311.0000       45  \n",
       "1         2.096     2480.893  176.7000       59  \n",
       "2         1.258     2581.136  296.4183      115  \n",
       "3         1.000     2508.800  363.7444       41  \n",
       "4         4.753     2477.000   76.6857       27  "
      ]
     },
     "execution_count": 3,
     "metadata": {},
     "output_type": "execute_result"
    }
   ],
   "source": [
    "df= pd.read_csv('data.csv')\n",
    "df.head()"
   ]
  },
  {
   "cell_type": "code",
   "execution_count": 4,
   "id": "7fc99c36",
   "metadata": {},
   "outputs": [
    {
     "data": {
      "text/plain": [
       "(104, 13)"
      ]
     },
     "execution_count": 4,
     "metadata": {},
     "output_type": "execute_result"
    }
   ],
   "source": [
    "df.shape"
   ]
  },
  {
   "cell_type": "code",
   "execution_count": 5,
   "id": "f3f35677",
   "metadata": {},
   "outputs": [
    {
     "data": {
      "text/plain": [
       "Index(['Part filling degree', 'PartRate wl', 'PartRate hl', 'PartRate wh',\n",
       "       'Part height', 'Part Bottom area', 'Total filling degree',\n",
       "       'TotalRate wl', 'TotalRate hl', 'TotalRate wh', 'Bottom area', 'Heigh ',\n",
       "       'NumPart'],\n",
       "      dtype='object')"
      ]
     },
     "execution_count": 5,
     "metadata": {},
     "output_type": "execute_result"
    }
   ],
   "source": [
    "df.columns"
   ]
  },
  {
   "cell_type": "code",
   "execution_count": 6,
   "id": "6e7f6db8",
   "metadata": {},
   "outputs": [],
   "source": [
    "# Split data in x and y\n",
    "x= df[['PartRate wl', 'PartRate hl', 'PartRate wh',\n",
    "       'Part height', 'Part Bottom area', 'Total filling degree',\n",
    "       'TotalRate wl', 'TotalRate hl', 'TotalRate wh', 'Bottom area', 'Heigh ']]\n",
    "y= df[['Part filling degree']]"
   ]
  },
  {
   "cell_type": "code",
   "execution_count": 7,
   "id": "757619d8",
   "metadata": {},
   "outputs": [
    {
     "name": "stdout",
     "output_type": "stream",
     "text": [
      "(83, 11) (21, 11) (83, 1) (21, 1)\n"
     ]
    }
   ],
   "source": [
    "# Split data into train and test\n",
    "from sklearn.model_selection import train_test_split\n",
    "\n",
    "x_train, x_test, y_train, y_test= train_test_split(x, y, test_size= 0.2, random_state=1)\n",
    "print(x_train.shape, x_test.shape, y_train.shape, y_test.shape)"
   ]
  },
  {
   "cell_type": "markdown",
   "id": "b1afb04d",
   "metadata": {},
   "source": [
    "## GP"
   ]
  },
  {
   "cell_type": "code",
   "execution_count": 8,
   "id": "518187dd",
   "metadata": {},
   "outputs": [
    {
     "data": {
      "text/html": [
       "<style>#sk-container-id-1 {color: black;background-color: white;}#sk-container-id-1 pre{padding: 0;}#sk-container-id-1 div.sk-toggleable {background-color: white;}#sk-container-id-1 label.sk-toggleable__label {cursor: pointer;display: block;width: 100%;margin-bottom: 0;padding: 0.3em;box-sizing: border-box;text-align: center;}#sk-container-id-1 label.sk-toggleable__label-arrow:before {content: \"▸\";float: left;margin-right: 0.25em;color: #696969;}#sk-container-id-1 label.sk-toggleable__label-arrow:hover:before {color: black;}#sk-container-id-1 div.sk-estimator:hover label.sk-toggleable__label-arrow:before {color: black;}#sk-container-id-1 div.sk-toggleable__content {max-height: 0;max-width: 0;overflow: hidden;text-align: left;background-color: #f0f8ff;}#sk-container-id-1 div.sk-toggleable__content pre {margin: 0.2em;color: black;border-radius: 0.25em;background-color: #f0f8ff;}#sk-container-id-1 input.sk-toggleable__control:checked~div.sk-toggleable__content {max-height: 200px;max-width: 100%;overflow: auto;}#sk-container-id-1 input.sk-toggleable__control:checked~label.sk-toggleable__label-arrow:before {content: \"▾\";}#sk-container-id-1 div.sk-estimator input.sk-toggleable__control:checked~label.sk-toggleable__label {background-color: #d4ebff;}#sk-container-id-1 div.sk-label input.sk-toggleable__control:checked~label.sk-toggleable__label {background-color: #d4ebff;}#sk-container-id-1 input.sk-hidden--visually {border: 0;clip: rect(1px 1px 1px 1px);clip: rect(1px, 1px, 1px, 1px);height: 1px;margin: -1px;overflow: hidden;padding: 0;position: absolute;width: 1px;}#sk-container-id-1 div.sk-estimator {font-family: monospace;background-color: #f0f8ff;border: 1px dotted black;border-radius: 0.25em;box-sizing: border-box;margin-bottom: 0.5em;}#sk-container-id-1 div.sk-estimator:hover {background-color: #d4ebff;}#sk-container-id-1 div.sk-parallel-item::after {content: \"\";width: 100%;border-bottom: 1px solid gray;flex-grow: 1;}#sk-container-id-1 div.sk-label:hover label.sk-toggleable__label {background-color: #d4ebff;}#sk-container-id-1 div.sk-serial::before {content: \"\";position: absolute;border-left: 1px solid gray;box-sizing: border-box;top: 0;bottom: 0;left: 50%;z-index: 0;}#sk-container-id-1 div.sk-serial {display: flex;flex-direction: column;align-items: center;background-color: white;padding-right: 0.2em;padding-left: 0.2em;position: relative;}#sk-container-id-1 div.sk-item {position: relative;z-index: 1;}#sk-container-id-1 div.sk-parallel {display: flex;align-items: stretch;justify-content: center;background-color: white;position: relative;}#sk-container-id-1 div.sk-item::before, #sk-container-id-1 div.sk-parallel-item::before {content: \"\";position: absolute;border-left: 1px solid gray;box-sizing: border-box;top: 0;bottom: 0;left: 50%;z-index: -1;}#sk-container-id-1 div.sk-parallel-item {display: flex;flex-direction: column;z-index: 1;position: relative;background-color: white;}#sk-container-id-1 div.sk-parallel-item:first-child::after {align-self: flex-end;width: 50%;}#sk-container-id-1 div.sk-parallel-item:last-child::after {align-self: flex-start;width: 50%;}#sk-container-id-1 div.sk-parallel-item:only-child::after {width: 0;}#sk-container-id-1 div.sk-dashed-wrapped {border: 1px dashed gray;margin: 0 0.4em 0.5em 0.4em;box-sizing: border-box;padding-bottom: 0.4em;background-color: white;}#sk-container-id-1 div.sk-label label {font-family: monospace;font-weight: bold;display: inline-block;line-height: 1.2em;}#sk-container-id-1 div.sk-label-container {text-align: center;}#sk-container-id-1 div.sk-container {/* jupyter's `normalize.less` sets `[hidden] { display: none; }` but bootstrap.min.css set `[hidden] { display: none !important; }` so we also need the `!important` here to be able to override the default hidden behavior on the sphinx rendered scikit-learn.org. See: https://github.com/scikit-learn/scikit-learn/issues/21755 */display: inline-block !important;position: relative;}#sk-container-id-1 div.sk-text-repr-fallback {display: none;}</style><div id=\"sk-container-id-1\" class=\"sk-top-container\"><div class=\"sk-text-repr-fallback\"><pre>GaussianProcessRegressor(alpha=0.1, n_restarts_optimizer=20)</pre><b>In a Jupyter environment, please rerun this cell to show the HTML representation or trust the notebook. <br />On GitHub, the HTML representation is unable to render, please try loading this page with nbviewer.org.</b></div><div class=\"sk-container\" hidden><div class=\"sk-item\"><div class=\"sk-estimator sk-toggleable\"><input class=\"sk-toggleable__control sk-hidden--visually\" id=\"sk-estimator-id-1\" type=\"checkbox\" checked><label for=\"sk-estimator-id-1\" class=\"sk-toggleable__label sk-toggleable__label-arrow\">GaussianProcessRegressor</label><div class=\"sk-toggleable__content\"><pre>GaussianProcessRegressor(alpha=0.1, n_restarts_optimizer=20)</pre></div></div></div></div></div>"
      ],
      "text/plain": [
       "GaussianProcessRegressor(alpha=0.1, n_restarts_optimizer=20)"
      ]
     },
     "execution_count": 8,
     "metadata": {},
     "output_type": "execute_result"
    }
   ],
   "source": [
    "from sklearn.gaussian_process import GaussianProcessRegressor\n",
    "from sklearn.gaussian_process.kernels import RBF, ConstantKernel as C\n",
    "\n",
    "gp= GaussianProcessRegressor(alpha=0.1, n_restarts_optimizer=20)\n",
    "gp.fit(x_train, y_train)"
   ]
  },
  {
   "cell_type": "code",
   "execution_count": 9,
   "id": "00295271",
   "metadata": {},
   "outputs": [],
   "source": [
    "y_train_gp= gp.predict(x_train)\n",
    "y_test_gp= gp.predict(x_test)"
   ]
  },
  {
   "cell_type": "code",
   "execution_count": 10,
   "id": "7c53cbc8",
   "metadata": {},
   "outputs": [
    {
     "name": "stdout",
     "output_type": "stream",
     "text": [
      "2.9866766307876227\n",
      "............\n",
      "231.599473\n"
     ]
    }
   ],
   "source": [
    "# Mean squared erro\n",
    "from sklearn.metrics import mean_squared_error\n",
    "mse_train_gp= mean_squared_error(y_train, y_train_gp)\n",
    "mse_test_gp= mean_squared_error(y_test, y_test_gp)\n",
    "print(mse_train_gp)\n",
    "print('............')\n",
    "print(mse_test_gp)"
   ]
  },
  {
   "cell_type": "code",
   "execution_count": 11,
   "id": "f6d1475a",
   "metadata": {},
   "outputs": [],
   "source": [
    "# Function defination for R2 and Adj R2\n",
    "\n",
    "def r2(actual: np.ndarray, predicted: np.ndarray):\n",
    "    \"\"\" R2 Score \"\"\"\n",
    "    return r2_score(actual, predicted)\n",
    "\n",
    "def adjr2(actual: np.ndarray, predicted: np.ndarray, rowcount: np.int, featurecount: np.int):\n",
    "    \"\"\" Adj R2 Score \"\"\"\n",
    "    return 1-(1-r2(actual,predicted))*(rowcount-1)/(rowcount-featurecount)"
   ]
  },
  {
   "cell_type": "code",
   "execution_count": 12,
   "id": "e4a77543",
   "metadata": {},
   "outputs": [
    {
     "name": "stdout",
     "output_type": "stream",
     "text": [
      "0.9644804909499066\n",
      "............\n",
      "-2.4342217484884197\n",
      "............\n",
      "0.9638680856214568\n",
      "............\n",
      "-2.698392652218298\n"
     ]
    }
   ],
   "source": [
    "from sklearn.metrics import r2_score\n",
    "r2_train_gp= r2(y_train, y_train_gp)\n",
    "r2_test_gp= r2(y_test, y_test_gp)\n",
    "\n",
    "adj_r2_train_gp= adjr2(y_train, y_train_gp, 60, 2)\n",
    "adj_r2_test_gp= adjr2(y_test, y_test_gp, 15, 2)\n",
    "\n",
    "print(r2_train_gp)\n",
    "print('............')\n",
    "print(r2_test_gp)\n",
    "print('............')\n",
    "print(adj_r2_train_gp)\n",
    "print('............')\n",
    "print(adj_r2_test_gp)"
   ]
  },
  {
   "cell_type": "code",
   "execution_count": 13,
   "id": "5901b698",
   "metadata": {},
   "outputs": [
    {
     "name": "stdout",
     "output_type": "stream",
     "text": [
      "1.5138543263964974\n",
      "............\n",
      "12.812523809523809\n"
     ]
    }
   ],
   "source": [
    "# Mean absolute error\n",
    "from sklearn.metrics import mean_absolute_error\n",
    "mae_train_gp= mean_absolute_error(y_train, y_train_gp)\n",
    "mae_test_gp= mean_absolute_error(y_test, y_test_gp)\n",
    "print(mae_train_gp)\n",
    "print('............')\n",
    "print(mae_test_gp)"
   ]
  },
  {
   "cell_type": "code",
   "execution_count": 14,
   "id": "f46f8d15",
   "metadata": {},
   "outputs": [
    {
     "name": "stdout",
     "output_type": "stream",
     "text": [
      "1.7282004023803554\n",
      "............\n",
      "15.21839258923228\n"
     ]
    }
   ],
   "source": [
    "# RMSE\n",
    "rmse_train_gp = np.sqrt(mse_train_gp)\n",
    "rmse_test_gp = np.sqrt(mse_test_gp)\n",
    "print(rmse_train_gp)\n",
    "print('............')\n",
    "print(rmse_test_gp)"
   ]
  },
  {
   "cell_type": "code",
   "execution_count": 15,
   "id": "7997ce31",
   "metadata": {},
   "outputs": [],
   "source": [
    "#Randomized search\n",
    "# initialize model and define the space of the hyperparameters to\n",
    "# perform the grid-search over\n",
    "model = gp\n",
    "n_restarts_optimizer = [5, 10, 20, 40]\n",
    "alpha = [0.001, 0.01, 0.1, 1]\n",
    "\n",
    "\n",
    "grid = dict(n_restarts_optimizer=n_restarts_optimizer, alpha=alpha)"
   ]
  },
  {
   "cell_type": "code",
   "execution_count": 16,
   "id": "506d4ed9",
   "metadata": {},
   "outputs": [
    {
     "name": "stdout",
     "output_type": "stream",
     "text": [
      "[INFO] grid searching over the hyperparameters...\n",
      "[INFO] evaluating...\n",
      "R2: -2.43\n",
      "GaussianProcessRegressor(alpha=1, n_restarts_optimizer=40)\n"
     ]
    }
   ],
   "source": [
    "# initialize a cross-validation fold and perform a randomized-search\n",
    "# to tune the hyperparameters\n",
    "print(\"[INFO] grid searching over the hyperparameters...\")\n",
    "cvFold = RepeatedKFold(n_splits=10, n_repeats=3, random_state=1234)\n",
    "randomSearch = RandomizedSearchCV(estimator=model, n_jobs=-1,\n",
    "\tcv=cvFold, param_distributions=grid,\n",
    "\tscoring=\"neg_mean_squared_error\")\n",
    "searchResults = randomSearch.fit(x_train, y_train)\n",
    "# extract the best model and evaluate it\n",
    "print(\"[INFO] evaluating...\")\n",
    "bestModel = searchResults.best_estimator_\n",
    "print(\"R2: {:.2f}\".format(bestModel.score(x_test, y_test)))\n",
    "print(bestModel)"
   ]
  },
  {
   "cell_type": "markdown",
   "id": "90f2e660",
   "metadata": {},
   "source": [
    "## Lazipredict"
   ]
  },
  {
   "cell_type": "code",
   "execution_count": 17,
   "id": "617362d6",
   "metadata": {
    "scrolled": true
   },
   "outputs": [
    {
     "name": "stderr",
     "output_type": "stream",
     "text": [
      "100%|██████████████████████████████████████████████████████████████████████████████████| 42/42 [00:01<00:00, 38.89it/s]"
     ]
    },
    {
     "name": "stdout",
     "output_type": "stream",
     "text": [
      "                               Adjusted R-Squared  R-Squared  RMSE  Time Taken\n",
      "Model                                                                         \n",
      "LinearSVR                                    0.04       0.57  5.39        0.01\n",
      "HuberRegressor                              -0.05       0.53  5.65        0.01\n",
      "GradientBoostingRegressor                   -0.11       0.50  5.80        0.04\n",
      "KNeighborsRegressor                         -0.23       0.45  6.10        0.01\n",
      "Lars                                        -0.23       0.44  6.12        0.01\n",
      "LinearRegression                            -0.23       0.44  6.12        0.01\n",
      "TransformedTargetRegressor                  -0.23       0.44  6.12        0.01\n",
      "SGDRegressor                                -0.30       0.42  6.27        0.01\n",
      "LassoLarsIC                                 -0.30       0.41  6.28        0.01\n",
      "Ridge                                       -0.32       0.40  6.34        0.01\n",
      "LassoCV                                     -0.34       0.40  6.38        0.06\n",
      "ExtraTreesRegressor                         -0.36       0.39  6.42        0.07\n",
      "RidgeCV                                     -0.36       0.39  6.43        0.01\n",
      "ElasticNetCV                                -0.38       0.38  6.48        0.04\n",
      "DecisionTreeRegressor                       -0.40       0.37  6.53        0.01\n",
      "BayesianRidge                               -0.41       0.37  6.53        0.01\n",
      "PoissonRegressor                            -0.44       0.35  6.61        0.01\n",
      "AdaBoostRegressor                           -0.47       0.34  6.69        0.04\n",
      "OrthogonalMatchingPursuitCV                 -0.48       0.33  6.70        0.01\n",
      "LassoLarsCV                                 -0.52       0.31  6.80        0.02\n",
      "RandomForestRegressor                       -0.64       0.26  7.06        0.14\n",
      "SVR                                         -0.64       0.26  7.06        0.01\n",
      "LarsCV                                      -0.65       0.26  7.07        0.02\n",
      "GammaRegressor                              -0.69       0.24  7.17        0.01\n",
      "BaggingRegressor                            -0.72       0.23  7.22        0.01\n",
      "TweedieRegressor                            -0.76       0.21  7.31        0.01\n",
      "Lasso                                       -0.79       0.20  7.37        0.01\n",
      "ElasticNet                                  -0.82       0.18  7.42        0.00\n",
      "LGBMRegressor                               -0.89       0.15  7.58        0.03\n",
      "XGBRegressor                                -0.89       0.15  7.58        0.07\n",
      "HistGradientBoostingRegressor               -0.95       0.12  7.70        0.06\n",
      "PassiveAggressiveRegressor                  -0.97       0.11  7.73        0.01\n",
      "NuSVR                                       -0.99       0.11  7.77        0.01\n",
      "OrthogonalMatchingPursuit                   -1.01       0.10  7.81        0.01\n",
      "QuantileRegressor                           -1.34      -0.05  8.42        0.09\n",
      "DummyRegressor                              -1.71      -0.22  9.07        0.00\n",
      "LassoLars                                   -1.71      -0.22  9.07        0.01\n",
      "MLPRegressor                                -1.90      -0.30  9.38        0.08\n",
      "ExtraTreeRegressor                          -2.59      -0.62 10.44        0.01\n",
      "GaussianProcessRegressor                    -3.33      -0.95 11.46        0.01\n",
      "KernelRidge                                 -6.96      -2.58 15.54        0.01\n",
      "RANSACRegressor                            -11.45      -4.60 19.44        0.08\n"
     ]
    },
    {
     "name": "stderr",
     "output_type": "stream",
     "text": [
      "\n"
     ]
    }
   ],
   "source": [
    "from lazypredict.Supervised import LazyRegressor\n",
    "\n",
    "clf = LazyRegressor(verbose=0,ignore_warnings=True, custom_metric=None)\n",
    "models,predictions = clf.fit(x_train, x_test, y_train, y_test)\n",
    "\n",
    "print(models)"
   ]
  },
  {
   "cell_type": "markdown",
   "id": "33e60305",
   "metadata": {},
   "source": [
    "## XGB"
   ]
  },
  {
   "cell_type": "code",
   "execution_count": 18,
   "id": "26d22671",
   "metadata": {},
   "outputs": [
    {
     "data": {
      "text/html": [
       "<style>#sk-container-id-2 {color: black;background-color: white;}#sk-container-id-2 pre{padding: 0;}#sk-container-id-2 div.sk-toggleable {background-color: white;}#sk-container-id-2 label.sk-toggleable__label {cursor: pointer;display: block;width: 100%;margin-bottom: 0;padding: 0.3em;box-sizing: border-box;text-align: center;}#sk-container-id-2 label.sk-toggleable__label-arrow:before {content: \"▸\";float: left;margin-right: 0.25em;color: #696969;}#sk-container-id-2 label.sk-toggleable__label-arrow:hover:before {color: black;}#sk-container-id-2 div.sk-estimator:hover label.sk-toggleable__label-arrow:before {color: black;}#sk-container-id-2 div.sk-toggleable__content {max-height: 0;max-width: 0;overflow: hidden;text-align: left;background-color: #f0f8ff;}#sk-container-id-2 div.sk-toggleable__content pre {margin: 0.2em;color: black;border-radius: 0.25em;background-color: #f0f8ff;}#sk-container-id-2 input.sk-toggleable__control:checked~div.sk-toggleable__content {max-height: 200px;max-width: 100%;overflow: auto;}#sk-container-id-2 input.sk-toggleable__control:checked~label.sk-toggleable__label-arrow:before {content: \"▾\";}#sk-container-id-2 div.sk-estimator input.sk-toggleable__control:checked~label.sk-toggleable__label {background-color: #d4ebff;}#sk-container-id-2 div.sk-label input.sk-toggleable__control:checked~label.sk-toggleable__label {background-color: #d4ebff;}#sk-container-id-2 input.sk-hidden--visually {border: 0;clip: rect(1px 1px 1px 1px);clip: rect(1px, 1px, 1px, 1px);height: 1px;margin: -1px;overflow: hidden;padding: 0;position: absolute;width: 1px;}#sk-container-id-2 div.sk-estimator {font-family: monospace;background-color: #f0f8ff;border: 1px dotted black;border-radius: 0.25em;box-sizing: border-box;margin-bottom: 0.5em;}#sk-container-id-2 div.sk-estimator:hover {background-color: #d4ebff;}#sk-container-id-2 div.sk-parallel-item::after {content: \"\";width: 100%;border-bottom: 1px solid gray;flex-grow: 1;}#sk-container-id-2 div.sk-label:hover label.sk-toggleable__label {background-color: #d4ebff;}#sk-container-id-2 div.sk-serial::before {content: \"\";position: absolute;border-left: 1px solid gray;box-sizing: border-box;top: 0;bottom: 0;left: 50%;z-index: 0;}#sk-container-id-2 div.sk-serial {display: flex;flex-direction: column;align-items: center;background-color: white;padding-right: 0.2em;padding-left: 0.2em;position: relative;}#sk-container-id-2 div.sk-item {position: relative;z-index: 1;}#sk-container-id-2 div.sk-parallel {display: flex;align-items: stretch;justify-content: center;background-color: white;position: relative;}#sk-container-id-2 div.sk-item::before, #sk-container-id-2 div.sk-parallel-item::before {content: \"\";position: absolute;border-left: 1px solid gray;box-sizing: border-box;top: 0;bottom: 0;left: 50%;z-index: -1;}#sk-container-id-2 div.sk-parallel-item {display: flex;flex-direction: column;z-index: 1;position: relative;background-color: white;}#sk-container-id-2 div.sk-parallel-item:first-child::after {align-self: flex-end;width: 50%;}#sk-container-id-2 div.sk-parallel-item:last-child::after {align-self: flex-start;width: 50%;}#sk-container-id-2 div.sk-parallel-item:only-child::after {width: 0;}#sk-container-id-2 div.sk-dashed-wrapped {border: 1px dashed gray;margin: 0 0.4em 0.5em 0.4em;box-sizing: border-box;padding-bottom: 0.4em;background-color: white;}#sk-container-id-2 div.sk-label label {font-family: monospace;font-weight: bold;display: inline-block;line-height: 1.2em;}#sk-container-id-2 div.sk-label-container {text-align: center;}#sk-container-id-2 div.sk-container {/* jupyter's `normalize.less` sets `[hidden] { display: none; }` but bootstrap.min.css set `[hidden] { display: none !important; }` so we also need the `!important` here to be able to override the default hidden behavior on the sphinx rendered scikit-learn.org. See: https://github.com/scikit-learn/scikit-learn/issues/21755 */display: inline-block !important;position: relative;}#sk-container-id-2 div.sk-text-repr-fallback {display: none;}</style><div id=\"sk-container-id-2\" class=\"sk-top-container\"><div class=\"sk-text-repr-fallback\"><pre>XGBRegressor(base_score=0.5, booster=&#x27;gbtree&#x27;, callbacks=None,\n",
       "             colsample_bylevel=1, colsample_bynode=1, colsample_bytree=1,\n",
       "             early_stopping_rounds=None, enable_categorical=False,\n",
       "             eval_metric=None, gamma=0, gpu_id=-1, grow_policy=&#x27;depthwise&#x27;,\n",
       "             importance_type=None, interaction_constraints=&#x27;&#x27;,\n",
       "             learning_rate=0.300000012, max_bin=256, max_cat_to_onehot=4,\n",
       "             max_delta_step=0, max_depth=6, max_leaves=0, min_child_weight=1,\n",
       "             missing=nan, monotone_constraints=&#x27;()&#x27;, n_estimators=100, n_jobs=0,\n",
       "             num_parallel_tree=1, predictor=&#x27;auto&#x27;, random_state=0, reg_alpha=0,\n",
       "             reg_lambda=1, ...)</pre><b>In a Jupyter environment, please rerun this cell to show the HTML representation or trust the notebook. <br />On GitHub, the HTML representation is unable to render, please try loading this page with nbviewer.org.</b></div><div class=\"sk-container\" hidden><div class=\"sk-item\"><div class=\"sk-estimator sk-toggleable\"><input class=\"sk-toggleable__control sk-hidden--visually\" id=\"sk-estimator-id-2\" type=\"checkbox\" checked><label for=\"sk-estimator-id-2\" class=\"sk-toggleable__label sk-toggleable__label-arrow\">XGBRegressor</label><div class=\"sk-toggleable__content\"><pre>XGBRegressor(base_score=0.5, booster=&#x27;gbtree&#x27;, callbacks=None,\n",
       "             colsample_bylevel=1, colsample_bynode=1, colsample_bytree=1,\n",
       "             early_stopping_rounds=None, enable_categorical=False,\n",
       "             eval_metric=None, gamma=0, gpu_id=-1, grow_policy=&#x27;depthwise&#x27;,\n",
       "             importance_type=None, interaction_constraints=&#x27;&#x27;,\n",
       "             learning_rate=0.300000012, max_bin=256, max_cat_to_onehot=4,\n",
       "             max_delta_step=0, max_depth=6, max_leaves=0, min_child_weight=1,\n",
       "             missing=nan, monotone_constraints=&#x27;()&#x27;, n_estimators=100, n_jobs=0,\n",
       "             num_parallel_tree=1, predictor=&#x27;auto&#x27;, random_state=0, reg_alpha=0,\n",
       "             reg_lambda=1, ...)</pre></div></div></div></div></div>"
      ],
      "text/plain": [
       "XGBRegressor(base_score=0.5, booster='gbtree', callbacks=None,\n",
       "             colsample_bylevel=1, colsample_bynode=1, colsample_bytree=1,\n",
       "             early_stopping_rounds=None, enable_categorical=False,\n",
       "             eval_metric=None, gamma=0, gpu_id=-1, grow_policy='depthwise',\n",
       "             importance_type=None, interaction_constraints='',\n",
       "             learning_rate=0.300000012, max_bin=256, max_cat_to_onehot=4,\n",
       "             max_delta_step=0, max_depth=6, max_leaves=0, min_child_weight=1,\n",
       "             missing=nan, monotone_constraints='()', n_estimators=100, n_jobs=0,\n",
       "             num_parallel_tree=1, predictor='auto', random_state=0, reg_alpha=0,\n",
       "             reg_lambda=1, ...)"
      ]
     },
     "execution_count": 18,
     "metadata": {},
     "output_type": "execute_result"
    }
   ],
   "source": [
    "from xgboost import XGBRegressor\n",
    "xgb= XGBRegressor()\n",
    "xgb.fit(x_train, y_train)"
   ]
  },
  {
   "cell_type": "code",
   "execution_count": 19,
   "id": "71072647",
   "metadata": {},
   "outputs": [],
   "source": [
    "y_train_xgb= xgb.predict(x_train)\n",
    "y_test_xgb= xgb.predict(x_test)"
   ]
  },
  {
   "cell_type": "code",
   "execution_count": 20,
   "id": "8aee510a",
   "metadata": {},
   "outputs": [
    {
     "name": "stdout",
     "output_type": "stream",
     "text": [
      "0.9999999933211046\n",
      "............\n",
      "0.14753339488110462\n",
      "............\n",
      "0.9999999932059512\n",
      "............\n",
      "0.08195904064118953\n"
     ]
    }
   ],
   "source": [
    "r2_train_xgb= r2(y_train, y_train_xgb)\n",
    "r2_test_xgb= r2(y_test, y_test_xgb)\n",
    "\n",
    "adj_r2_train_xgb= adjr2(y_train, y_train_xgb, 60, 2)\n",
    "adj_r2_test_xgb= adjr2(y_test, y_test_xgb, 15, 2)\n",
    "\n",
    "print(r2_train_xgb)\n",
    "print('............')\n",
    "print(r2_test_xgb)\n",
    "print('............')\n",
    "print(adj_r2_train_xgb)\n",
    "print('............')\n",
    "print(adj_r2_test_xgb)"
   ]
  },
  {
   "cell_type": "code",
   "execution_count": 21,
   "id": "db6ddef9",
   "metadata": {},
   "outputs": [
    {
     "name": "stdout",
     "output_type": "stream",
     "text": [
      "5.615984397128912e-07\n",
      "............\n",
      "57.48924529481385\n"
     ]
    }
   ],
   "source": [
    "# Mean squared error\n",
    "from sklearn.metrics import mean_squared_error\n",
    "mse_train_xgb= mean_squared_error(y_train, y_train_xgb)\n",
    "mse_test_xgb= mean_squared_error(y_test, y_test_xgb)\n",
    "print(mse_train_xgb)\n",
    "print('............')\n",
    "print(mse_test_xgb)"
   ]
  },
  {
   "cell_type": "code",
   "execution_count": 22,
   "id": "a4d1616f",
   "metadata": {},
   "outputs": [
    {
     "name": "stdout",
     "output_type": "stream",
     "text": [
      "0.0005415231865572117\n",
      "............\n",
      "5.738007826123918\n"
     ]
    }
   ],
   "source": [
    "# Mean absolute error\n",
    "from sklearn.metrics import mean_absolute_error\n",
    "mae_train_xgb= mean_absolute_error(y_train, y_train_xgb)\n",
    "mae_test_xgb= mean_absolute_error(y_test, y_test_xgb)\n",
    "print(mae_train_xgb)\n",
    "print('............')\n",
    "print(mae_test_xgb)"
   ]
  },
  {
   "cell_type": "code",
   "execution_count": 23,
   "id": "0a79b87b",
   "metadata": {},
   "outputs": [
    {
     "name": "stdout",
     "output_type": "stream",
     "text": [
      "0.0007493987187825258\n",
      "............\n",
      "7.582166266629468\n"
     ]
    }
   ],
   "source": [
    "# RMSE\n",
    "rmse_train_xgb = np.sqrt(mse_train_xgb)\n",
    "rmse_test_xgb = np.sqrt(mse_test_xgb)\n",
    "print(rmse_train_xgb)\n",
    "print('............')\n",
    "print(rmse_test_xgb)"
   ]
  },
  {
   "cell_type": "code",
   "execution_count": 24,
   "id": "dcafecff",
   "metadata": {},
   "outputs": [],
   "source": [
    "# initialize model and define the space of the hyperparameters to\n",
    "# perform the grid-search over\n",
    "model = xgb\n",
    "n_estimators = [10, 100, 1000, 10000]\n",
    "learning_rate = [0.1, 0.01, 1e-3]\n",
    "max_depth = [5, 10, 20, 40]\n",
    "reg_lambda = [0.01, 0.1, 1]\n",
    "\n",
    "\n",
    "grid = dict(n_estimators=n_estimators, learning_rate=learning_rate, max_depth=max_depth )"
   ]
  },
  {
   "cell_type": "code",
   "execution_count": 25,
   "id": "1984c728",
   "metadata": {},
   "outputs": [
    {
     "name": "stdout",
     "output_type": "stream",
     "text": [
      "[INFO] grid searching over the hyperparameters...\n",
      "[INFO] evaluating...\n",
      "XGBRegressor(base_score=0.5, booster='gbtree', callbacks=None,\n",
      "             colsample_bylevel=1, colsample_bynode=1, colsample_bytree=1,\n",
      "             early_stopping_rounds=None, enable_categorical=False,\n",
      "             eval_metric=None, gamma=0, gpu_id=-1, grow_policy='depthwise',\n",
      "             importance_type=None, interaction_constraints='',\n",
      "             learning_rate=0.1, max_bin=256, max_cat_to_onehot=4,\n",
      "             max_delta_step=0, max_depth=5, max_leaves=0, min_child_weight=1,\n",
      "             missing=nan, monotone_constraints='()', n_estimators=100, n_jobs=0,\n",
      "             num_parallel_tree=1, predictor='auto', random_state=0, reg_alpha=0,\n",
      "             reg_lambda=1, ...)\n"
     ]
    }
   ],
   "source": [
    "# initialize a cross-validation fold and perform a randomized-search\n",
    "# to tune the hyperparameters\n",
    "print(\"[INFO] grid searching over the hyperparameters...\")\n",
    "cvFold = RepeatedKFold(n_splits=10, n_repeats=3, random_state=1)\n",
    "randomSearch = RandomizedSearchCV(estimator=model, n_jobs=-1,\n",
    "\tcv=cvFold, param_distributions=grid,\n",
    "\tscoring=\"neg_mean_squared_error\")\n",
    "searchResults = randomSearch.fit(x_train, y_train)\n",
    "# extract the best model and evaluate it\n",
    "print(\"[INFO] evaluating...\")\n",
    "bestModel = searchResults.best_estimator_\n",
    "#print(\"R2: {:.2f}\".format(bestModel.score(x_test, y_test)))\n",
    "print(bestModel)"
   ]
  },
  {
   "cell_type": "code",
   "execution_count": 26,
   "id": "a1e807d7",
   "metadata": {
    "scrolled": true
   },
   "outputs": [
    {
     "name": "stdout",
     "output_type": "stream",
     "text": [
      "Feature: 0, Score: 0.02358\n",
      "Feature: 1, Score: 0.01036\n",
      "Feature: 2, Score: 0.08540\n",
      "Feature: 3, Score: 0.06386\n",
      "Feature: 4, Score: 0.29113\n",
      "Feature: 5, Score: 0.16710\n",
      "Feature: 6, Score: 0.10547\n",
      "Feature: 7, Score: 0.09008\n",
      "Feature: 8, Score: 0.01294\n",
      "Feature: 9, Score: 0.09548\n",
      "Feature: 10, Score: 0.05461\n"
     ]
    }
   ],
   "source": [
    "# Feature importance analysis\n",
    "\n",
    "importance = xgb.feature_importances_\n",
    "# summarize feature importance\n",
    "\n",
    "for i,v in enumerate(importance):\n",
    "\tprint('Feature: %0d, Score: %.5f' % (i,v))"
   ]
  },
  {
   "cell_type": "markdown",
   "id": "a4e92a55",
   "metadata": {},
   "source": [
    "## ANN"
   ]
  },
  {
   "cell_type": "code",
   "execution_count": 35,
   "id": "7215ff22",
   "metadata": {},
   "outputs": [
    {
     "data": {
      "text/html": [
       "<style>#sk-container-id-4 {color: black;background-color: white;}#sk-container-id-4 pre{padding: 0;}#sk-container-id-4 div.sk-toggleable {background-color: white;}#sk-container-id-4 label.sk-toggleable__label {cursor: pointer;display: block;width: 100%;margin-bottom: 0;padding: 0.3em;box-sizing: border-box;text-align: center;}#sk-container-id-4 label.sk-toggleable__label-arrow:before {content: \"▸\";float: left;margin-right: 0.25em;color: #696969;}#sk-container-id-4 label.sk-toggleable__label-arrow:hover:before {color: black;}#sk-container-id-4 div.sk-estimator:hover label.sk-toggleable__label-arrow:before {color: black;}#sk-container-id-4 div.sk-toggleable__content {max-height: 0;max-width: 0;overflow: hidden;text-align: left;background-color: #f0f8ff;}#sk-container-id-4 div.sk-toggleable__content pre {margin: 0.2em;color: black;border-radius: 0.25em;background-color: #f0f8ff;}#sk-container-id-4 input.sk-toggleable__control:checked~div.sk-toggleable__content {max-height: 200px;max-width: 100%;overflow: auto;}#sk-container-id-4 input.sk-toggleable__control:checked~label.sk-toggleable__label-arrow:before {content: \"▾\";}#sk-container-id-4 div.sk-estimator input.sk-toggleable__control:checked~label.sk-toggleable__label {background-color: #d4ebff;}#sk-container-id-4 div.sk-label input.sk-toggleable__control:checked~label.sk-toggleable__label {background-color: #d4ebff;}#sk-container-id-4 input.sk-hidden--visually {border: 0;clip: rect(1px 1px 1px 1px);clip: rect(1px, 1px, 1px, 1px);height: 1px;margin: -1px;overflow: hidden;padding: 0;position: absolute;width: 1px;}#sk-container-id-4 div.sk-estimator {font-family: monospace;background-color: #f0f8ff;border: 1px dotted black;border-radius: 0.25em;box-sizing: border-box;margin-bottom: 0.5em;}#sk-container-id-4 div.sk-estimator:hover {background-color: #d4ebff;}#sk-container-id-4 div.sk-parallel-item::after {content: \"\";width: 100%;border-bottom: 1px solid gray;flex-grow: 1;}#sk-container-id-4 div.sk-label:hover label.sk-toggleable__label {background-color: #d4ebff;}#sk-container-id-4 div.sk-serial::before {content: \"\";position: absolute;border-left: 1px solid gray;box-sizing: border-box;top: 0;bottom: 0;left: 50%;z-index: 0;}#sk-container-id-4 div.sk-serial {display: flex;flex-direction: column;align-items: center;background-color: white;padding-right: 0.2em;padding-left: 0.2em;position: relative;}#sk-container-id-4 div.sk-item {position: relative;z-index: 1;}#sk-container-id-4 div.sk-parallel {display: flex;align-items: stretch;justify-content: center;background-color: white;position: relative;}#sk-container-id-4 div.sk-item::before, #sk-container-id-4 div.sk-parallel-item::before {content: \"\";position: absolute;border-left: 1px solid gray;box-sizing: border-box;top: 0;bottom: 0;left: 50%;z-index: -1;}#sk-container-id-4 div.sk-parallel-item {display: flex;flex-direction: column;z-index: 1;position: relative;background-color: white;}#sk-container-id-4 div.sk-parallel-item:first-child::after {align-self: flex-end;width: 50%;}#sk-container-id-4 div.sk-parallel-item:last-child::after {align-self: flex-start;width: 50%;}#sk-container-id-4 div.sk-parallel-item:only-child::after {width: 0;}#sk-container-id-4 div.sk-dashed-wrapped {border: 1px dashed gray;margin: 0 0.4em 0.5em 0.4em;box-sizing: border-box;padding-bottom: 0.4em;background-color: white;}#sk-container-id-4 div.sk-label label {font-family: monospace;font-weight: bold;display: inline-block;line-height: 1.2em;}#sk-container-id-4 div.sk-label-container {text-align: center;}#sk-container-id-4 div.sk-container {/* jupyter's `normalize.less` sets `[hidden] { display: none; }` but bootstrap.min.css set `[hidden] { display: none !important; }` so we also need the `!important` here to be able to override the default hidden behavior on the sphinx rendered scikit-learn.org. See: https://github.com/scikit-learn/scikit-learn/issues/21755 */display: inline-block !important;position: relative;}#sk-container-id-4 div.sk-text-repr-fallback {display: none;}</style><div id=\"sk-container-id-4\" class=\"sk-top-container\"><div class=\"sk-text-repr-fallback\"><pre>MLPRegressor(activation=&#x27;tanh&#x27;, hidden_layer_sizes=10, solver=&#x27;lbfgs&#x27;)</pre><b>In a Jupyter environment, please rerun this cell to show the HTML representation or trust the notebook. <br />On GitHub, the HTML representation is unable to render, please try loading this page with nbviewer.org.</b></div><div class=\"sk-container\" hidden><div class=\"sk-item\"><div class=\"sk-estimator sk-toggleable\"><input class=\"sk-toggleable__control sk-hidden--visually\" id=\"sk-estimator-id-4\" type=\"checkbox\" checked><label for=\"sk-estimator-id-4\" class=\"sk-toggleable__label sk-toggleable__label-arrow\">MLPRegressor</label><div class=\"sk-toggleable__content\"><pre>MLPRegressor(activation=&#x27;tanh&#x27;, hidden_layer_sizes=10, solver=&#x27;lbfgs&#x27;)</pre></div></div></div></div></div>"
      ],
      "text/plain": [
       "MLPRegressor(activation='tanh', hidden_layer_sizes=10, solver='lbfgs')"
      ]
     },
     "execution_count": 35,
     "metadata": {},
     "output_type": "execute_result"
    }
   ],
   "source": [
    "from sklearn.neural_network import MLPRegressor\n",
    "\n",
    "mlp= MLPRegressor(activation='tanh', hidden_layer_sizes=10, solver='lbfgs')\n",
    "mlp.fit(x_train, y_train)"
   ]
  },
  {
   "cell_type": "code",
   "execution_count": 36,
   "id": "6e4fcb2d",
   "metadata": {},
   "outputs": [],
   "source": [
    "y_train_mlp= mlp.predict(x_train)\n",
    "y_test_mlp= mlp.predict(x_test)"
   ]
  },
  {
   "cell_type": "code",
   "execution_count": 37,
   "id": "0947b41a",
   "metadata": {},
   "outputs": [
    {
     "name": "stdout",
     "output_type": "stream",
     "text": [
      "0.10036155716013162\n",
      "............\n",
      "-0.16333004301646437\n",
      "............\n",
      "0.08485054952496152\n",
      "............\n",
      "-0.2528169694023461\n"
     ]
    }
   ],
   "source": [
    "r2_train_mlp= r2(y_train, y_train_mlp)\n",
    "r2_test_mlp= r2(y_test, y_test_mlp)\n",
    "\n",
    "adj_r2_train_mlp= adjr2(y_train, y_train_mlp, 60, 2)\n",
    "adj_r2_test_mlp= adjr2(y_test, y_test_mlp, 15, 2)\n",
    "\n",
    "print(r2_train_mlp)\n",
    "print('............')\n",
    "print(r2_test_mlp)\n",
    "print('............')\n",
    "print(adj_r2_train_mlp)\n",
    "print('............')\n",
    "print(adj_r2_test_mlp)"
   ]
  },
  {
   "cell_type": "code",
   "execution_count": 38,
   "id": "74bc0c12",
   "metadata": {},
   "outputs": [
    {
     "name": "stdout",
     "output_type": "stream",
     "text": [
      "75.64657241175854\n",
      "............\n",
      "78.45347348530106\n"
     ]
    }
   ],
   "source": [
    "# Mean squared error\n",
    "from sklearn.metrics import mean_squared_error\n",
    "mse_train_mlp= mean_squared_error(y_train, y_train_mlp)\n",
    "mse_test_mlp= mean_squared_error(y_test, y_test_mlp)\n",
    "print(mse_train_mlp)\n",
    "print('............')\n",
    "print(mse_test_mlp)"
   ]
  },
  {
   "cell_type": "code",
   "execution_count": 39,
   "id": "18d23101",
   "metadata": {},
   "outputs": [
    {
     "name": "stdout",
     "output_type": "stream",
     "text": [
      "8.697503803492042\n",
      "............\n",
      "8.85739654104416\n"
     ]
    }
   ],
   "source": [
    "# RMSE\n",
    "rmse_train_mlp = np.sqrt(mse_train_mlp)\n",
    "rmse_test_mlp = np.sqrt(mse_test_mlp)\n",
    "print(rmse_train_mlp)\n",
    "print('............')\n",
    "print(rmse_test_mlp)"
   ]
  },
  {
   "cell_type": "code",
   "execution_count": 32,
   "id": "d01430af",
   "metadata": {},
   "outputs": [
    {
     "name": "stdout",
     "output_type": "stream",
     "text": [
      "29.6032740319461\n",
      "............\n",
      "31.480716038359283\n"
     ]
    }
   ],
   "source": [
    "# Mean absolute error\n",
    "from sklearn.metrics import mean_absolute_error\n",
    "mae_train_mlp= mean_absolute_error(y_train, y_train_mlp)\n",
    "mae_test_mlp= mean_absolute_error(y_test, y_test_mlp)\n",
    "print(mae_train_mlp)\n",
    "print('............')\n",
    "print(mae_test_mlp)"
   ]
  },
  {
   "cell_type": "code",
   "execution_count": 33,
   "id": "8143e570",
   "metadata": {},
   "outputs": [],
   "source": [
    "# initialize model and define the space of the hyperparameters to\n",
    "# perform the grid-search over\n",
    "model = mlp\n",
    "hidden_layer_sizes = [5, 8, 10]\n",
    "activation = ['relu','tanh']\n",
    "solver = [\"lbfgs\", \"sgd\", \"adam\"]\n",
    "\n",
    "grid = dict(hidden_layer_sizes=hidden_layer_sizes, activation=activation, solver=solver )"
   ]
  },
  {
   "cell_type": "code",
   "execution_count": 34,
   "id": "e9bfcd6c",
   "metadata": {},
   "outputs": [
    {
     "name": "stdout",
     "output_type": "stream",
     "text": [
      "[INFO] grid searching over the hyperparameters...\n",
      "[INFO] evaluating...\n",
      "R2: -0.19\n",
      "MLPRegressor(activation='tanh', hidden_layer_sizes=10, solver='lbfgs')\n"
     ]
    }
   ],
   "source": [
    "# initialize a cross-validation fold and perform a randomized-search\n",
    "# to tune the hyperparameters\n",
    "print(\"[INFO] grid searching over the hyperparameters...\")\n",
    "cvFold = RepeatedKFold(n_splits=10, n_repeats=3, random_state=1234)\n",
    "randomSearch = RandomizedSearchCV(estimator=model, n_jobs=-1,\n",
    "\tcv=cvFold, param_distributions=grid,\n",
    "\tscoring=\"neg_mean_squared_error\")\n",
    "searchResults = randomSearch.fit(x_train, y_train)\n",
    "# extract the best model and evaluate it\n",
    "print(\"[INFO] evaluating...\")\n",
    "bestModel = searchResults.best_estimator_\n",
    "print(\"R2: {:.2f}\".format(bestModel.score(x_test, y_test)))\n",
    "print(bestModel)"
   ]
  },
  {
   "cell_type": "code",
   "execution_count": 40,
   "id": "35bf3018",
   "metadata": {},
   "outputs": [
    {
     "name": "stdout",
     "output_type": "stream",
     "text": [
      "--------------------------------------------------------------\n",
      "ML algorithm | CV-R2 | CV-MSE | CV-MAE |    IM \n",
      "--------------------------------------------------------------\n",
      "           XGBR | 0.0639 | 70.8737 | 6.4418 | 10.6418 \n",
      "            GPs | -3.5661 | 359.1851 | 16.5967 | 25.6024 \n",
      "            MLP | -0.0442 | 75.8957 | 7.4769 | 11.5278 \n",
      "--------------------------------------------------------------\n"
     ]
    }
   ],
   "source": [
    "## Cross validation\n",
    "from sklearn.model_selection import cross_val_score as CV\n",
    "from sklearn.metrics import mean_squared_error as MSE\n",
    "from sklearn.metrics import mean_absolute_error as MAE\n",
    "\n",
    "models = [ xgb,  gp, mlp, ]\n",
    "labels = ['XGBR', 'GPs', 'MLP', '']\n",
    "IMS = []\n",
    "\n",
    "print(\"--------------------------------------------------------------\")\n",
    "print(\"%5s | %5s | %5s | %5s | %5s \" % (\"ML algorithm\",  \"CV-R2\", \"CV-MSE\", \"CV-MAE\", \"IM\"))\n",
    "print(\"--------------------------------------------------------------\")\n",
    "\n",
    "for mod, label in zip( models, labels): \n",
    "  y_star_train = mod.predict(x_train)\n",
    " \n",
    "  scoreR2 = CV(mod, x_train, y_train, cv=5, scoring='r2')\n",
    "  #print(-1*scoreR2)\n",
    "  scoreMSE = CV(mod, x_train, y_train, cv=5, scoring='neg_mean_squared_error')\n",
    "  #print(-1*scoreMSE)\n",
    "  scoreMAE = CV(mod, x_train, y_train, cv=5, scoring='neg_mean_absolute_error')\n",
    "  #print(-1*scoreMAE)\n",
    "  IM=np.sqrt(((1-scoreR2)**2) + (scoreMSE) + (scoreMAE**2) )\n",
    "  #print(\"IM: \", IM)\n",
    "  \n",
    " \n",
    "  print(\"%15s | %.4f | %.4f | %.4f | %.4f \" % (label,  scoreR2.mean(), -1*scoreMSE.mean(), -1*scoreMAE.mean() , np.sqrt(((1-scoreR2.mean())**2) + (-1*scoreMSE.mean()) + (scoreMAE.mean()**2) )))\n",
    "print(\"--------------------------------------------------------------\")"
   ]
  },
  {
   "cell_type": "code",
   "execution_count": 41,
   "id": "4fdac477",
   "metadata": {},
   "outputs": [
    {
     "data": {
      "text/html": [
       "<div>\n",
       "<style scoped>\n",
       "    .dataframe tbody tr th:only-of-type {\n",
       "        vertical-align: middle;\n",
       "    }\n",
       "\n",
       "    .dataframe tbody tr th {\n",
       "        vertical-align: top;\n",
       "    }\n",
       "\n",
       "    .dataframe thead th {\n",
       "        text-align: right;\n",
       "    }\n",
       "</style>\n",
       "<table border=\"1\" class=\"dataframe\">\n",
       "  <thead>\n",
       "    <tr style=\"text-align: right;\">\n",
       "      <th></th>\n",
       "      <th>Part filling degree</th>\n",
       "      <th>PartRate wl</th>\n",
       "      <th>PartRate hl</th>\n",
       "      <th>PartRate wh</th>\n",
       "      <th>Part height</th>\n",
       "      <th>Part Bottom area</th>\n",
       "      <th>Total filling degree</th>\n",
       "      <th>TotalRate wl</th>\n",
       "      <th>TotalRate hl</th>\n",
       "      <th>TotalRate wh</th>\n",
       "      <th>Bottom area</th>\n",
       "      <th>Heigh</th>\n",
       "      <th>NumPart</th>\n",
       "      <th>ME GP predicted</th>\n",
       "      <th>ME XGB predicted</th>\n",
       "      <th>ME MLP predicted</th>\n",
       "    </tr>\n",
       "  </thead>\n",
       "  <tbody>\n",
       "    <tr>\n",
       "      <th>0</th>\n",
       "      <td>9.00</td>\n",
       "      <td>0.10</td>\n",
       "      <td>0.08</td>\n",
       "      <td>1.27</td>\n",
       "      <td>48.40</td>\n",
       "      <td>1286.17</td>\n",
       "      <td>8.28</td>\n",
       "      <td>0.54</td>\n",
       "      <td>0.45</td>\n",
       "      <td>1.20</td>\n",
       "      <td>2585.64</td>\n",
       "      <td>311.00</td>\n",
       "      <td>45</td>\n",
       "      <td>8.18</td>\n",
       "      <td>9.00</td>\n",
       "      <td>8.18</td>\n",
       "    </tr>\n",
       "    <tr>\n",
       "      <th>1</th>\n",
       "      <td>20.32</td>\n",
       "      <td>1.29</td>\n",
       "      <td>0.67</td>\n",
       "      <td>1.92</td>\n",
       "      <td>59.24</td>\n",
       "      <td>468.54</td>\n",
       "      <td>17.02</td>\n",
       "      <td>0.55</td>\n",
       "      <td>0.26</td>\n",
       "      <td>2.10</td>\n",
       "      <td>2480.89</td>\n",
       "      <td>176.70</td>\n",
       "      <td>59</td>\n",
       "      <td>18.47</td>\n",
       "      <td>20.32</td>\n",
       "      <td>18.47</td>\n",
       "    </tr>\n",
       "    <tr>\n",
       "      <th>2</th>\n",
       "      <td>25.12</td>\n",
       "      <td>1.21</td>\n",
       "      <td>0.37</td>\n",
       "      <td>3.31</td>\n",
       "      <td>35.28</td>\n",
       "      <td>548.91</td>\n",
       "      <td>15.89</td>\n",
       "      <td>0.54</td>\n",
       "      <td>0.43</td>\n",
       "      <td>1.26</td>\n",
       "      <td>2581.14</td>\n",
       "      <td>296.42</td>\n",
       "      <td>115</td>\n",
       "      <td>22.83</td>\n",
       "      <td>25.12</td>\n",
       "      <td>22.83</td>\n",
       "    </tr>\n",
       "    <tr>\n",
       "      <th>3</th>\n",
       "      <td>9.13</td>\n",
       "      <td>1.21</td>\n",
       "      <td>0.44</td>\n",
       "      <td>2.78</td>\n",
       "      <td>82.30</td>\n",
       "      <td>1012.38</td>\n",
       "      <td>6.89</td>\n",
       "      <td>0.53</td>\n",
       "      <td>0.53</td>\n",
       "      <td>1.00</td>\n",
       "      <td>2508.80</td>\n",
       "      <td>363.74</td>\n",
       "      <td>41</td>\n",
       "      <td>8.30</td>\n",
       "      <td>9.13</td>\n",
       "      <td>8.30</td>\n",
       "    </tr>\n",
       "    <tr>\n",
       "      <th>4</th>\n",
       "      <td>10.08</td>\n",
       "      <td>0.83</td>\n",
       "      <td>0.28</td>\n",
       "      <td>2.99</td>\n",
       "      <td>29.15</td>\n",
       "      <td>315.59</td>\n",
       "      <td>10.54</td>\n",
       "      <td>0.54</td>\n",
       "      <td>0.11</td>\n",
       "      <td>4.75</td>\n",
       "      <td>2477.00</td>\n",
       "      <td>76.69</td>\n",
       "      <td>27</td>\n",
       "      <td>9.16</td>\n",
       "      <td>10.08</td>\n",
       "      <td>9.16</td>\n",
       "    </tr>\n",
       "    <tr>\n",
       "      <th>...</th>\n",
       "      <td>...</td>\n",
       "      <td>...</td>\n",
       "      <td>...</td>\n",
       "      <td>...</td>\n",
       "      <td>...</td>\n",
       "      <td>...</td>\n",
       "      <td>...</td>\n",
       "      <td>...</td>\n",
       "      <td>...</td>\n",
       "      <td>...</td>\n",
       "      <td>...</td>\n",
       "      <td>...</td>\n",
       "      <td>...</td>\n",
       "      <td>...</td>\n",
       "      <td>...</td>\n",
       "      <td>...</td>\n",
       "    </tr>\n",
       "    <tr>\n",
       "      <th>99</th>\n",
       "      <td>28.50</td>\n",
       "      <td>1.16</td>\n",
       "      <td>0.32</td>\n",
       "      <td>3.65</td>\n",
       "      <td>27.25</td>\n",
       "      <td>335.29</td>\n",
       "      <td>15.16</td>\n",
       "      <td>0.52</td>\n",
       "      <td>0.15</td>\n",
       "      <td>3.39</td>\n",
       "      <td>2316.88</td>\n",
       "      <td>102.27</td>\n",
       "      <td>46</td>\n",
       "      <td>25.91</td>\n",
       "      <td>28.50</td>\n",
       "      <td>25.91</td>\n",
       "    </tr>\n",
       "    <tr>\n",
       "      <th>100</th>\n",
       "      <td>28.57</td>\n",
       "      <td>1.21</td>\n",
       "      <td>0.51</td>\n",
       "      <td>2.37</td>\n",
       "      <td>27.99</td>\n",
       "      <td>165.78</td>\n",
       "      <td>13.37</td>\n",
       "      <td>0.53</td>\n",
       "      <td>0.12</td>\n",
       "      <td>4.49</td>\n",
       "      <td>2102.16</td>\n",
       "      <td>74.37</td>\n",
       "      <td>67</td>\n",
       "      <td>25.97</td>\n",
       "      <td>28.57</td>\n",
       "      <td>25.97</td>\n",
       "    </tr>\n",
       "    <tr>\n",
       "      <th>101</th>\n",
       "      <td>5.46</td>\n",
       "      <td>0.98</td>\n",
       "      <td>0.18</td>\n",
       "      <td>5.57</td>\n",
       "      <td>44.03</td>\n",
       "      <td>2088.24</td>\n",
       "      <td>4.91</td>\n",
       "      <td>0.54</td>\n",
       "      <td>0.64</td>\n",
       "      <td>0.84</td>\n",
       "      <td>2613.22</td>\n",
       "      <td>444.48</td>\n",
       "      <td>33</td>\n",
       "      <td>0.00</td>\n",
       "      <td>9.70</td>\n",
       "      <td>0.00</td>\n",
       "    </tr>\n",
       "    <tr>\n",
       "      <th>102</th>\n",
       "      <td>11.23</td>\n",
       "      <td>0.33</td>\n",
       "      <td>0.16</td>\n",
       "      <td>2.13</td>\n",
       "      <td>63.72</td>\n",
       "      <td>1329.32</td>\n",
       "      <td>5.06</td>\n",
       "      <td>0.54</td>\n",
       "      <td>0.47</td>\n",
       "      <td>1.16</td>\n",
       "      <td>2587.45</td>\n",
       "      <td>322.40</td>\n",
       "      <td>16</td>\n",
       "      <td>10.21</td>\n",
       "      <td>11.23</td>\n",
       "      <td>10.21</td>\n",
       "    </tr>\n",
       "    <tr>\n",
       "      <th>103</th>\n",
       "      <td>6.06</td>\n",
       "      <td>1.99</td>\n",
       "      <td>0.82</td>\n",
       "      <td>2.42</td>\n",
       "      <td>81.48</td>\n",
       "      <td>745.88</td>\n",
       "      <td>3.87</td>\n",
       "      <td>0.54</td>\n",
       "      <td>0.46</td>\n",
       "      <td>1.19</td>\n",
       "      <td>2533.78</td>\n",
       "      <td>312.76</td>\n",
       "      <td>27</td>\n",
       "      <td>0.00</td>\n",
       "      <td>4.95</td>\n",
       "      <td>0.00</td>\n",
       "    </tr>\n",
       "  </tbody>\n",
       "</table>\n",
       "<p>104 rows × 16 columns</p>\n",
       "</div>"
      ],
      "text/plain": [
       "     Part filling degree  PartRate wl  PartRate hl  PartRate wh  Part height  \\\n",
       "0                   9.00         0.10         0.08         1.27        48.40   \n",
       "1                  20.32         1.29         0.67         1.92        59.24   \n",
       "2                  25.12         1.21         0.37         3.31        35.28   \n",
       "3                   9.13         1.21         0.44         2.78        82.30   \n",
       "4                  10.08         0.83         0.28         2.99        29.15   \n",
       "..                   ...          ...          ...          ...          ...   \n",
       "99                 28.50         1.16         0.32         3.65        27.25   \n",
       "100                28.57         1.21         0.51         2.37        27.99   \n",
       "101                 5.46         0.98         0.18         5.57        44.03   \n",
       "102                11.23         0.33         0.16         2.13        63.72   \n",
       "103                 6.06         1.99         0.82         2.42        81.48   \n",
       "\n",
       "     Part Bottom area  Total filling degree  TotalRate wl  TotalRate hl  \\\n",
       "0             1286.17                  8.28          0.54          0.45   \n",
       "1              468.54                 17.02          0.55          0.26   \n",
       "2              548.91                 15.89          0.54          0.43   \n",
       "3             1012.38                  6.89          0.53          0.53   \n",
       "4              315.59                 10.54          0.54          0.11   \n",
       "..                ...                   ...           ...           ...   \n",
       "99             335.29                 15.16          0.52          0.15   \n",
       "100            165.78                 13.37          0.53          0.12   \n",
       "101           2088.24                  4.91          0.54          0.64   \n",
       "102           1329.32                  5.06          0.54          0.47   \n",
       "103            745.88                  3.87          0.54          0.46   \n",
       "\n",
       "     TotalRate wh  Bottom area  Heigh   NumPart  ME GP predicted  \\\n",
       "0            1.20      2585.64  311.00       45             8.18   \n",
       "1            2.10      2480.89  176.70       59            18.47   \n",
       "2            1.26      2581.14  296.42      115            22.83   \n",
       "3            1.00      2508.80  363.74       41             8.30   \n",
       "4            4.75      2477.00   76.69       27             9.16   \n",
       "..            ...          ...     ...      ...              ...   \n",
       "99           3.39      2316.88  102.27       46            25.91   \n",
       "100          4.49      2102.16   74.37       67            25.97   \n",
       "101          0.84      2613.22  444.48       33             0.00   \n",
       "102          1.16      2587.45  322.40       16            10.21   \n",
       "103          1.19      2533.78  312.76       27             0.00   \n",
       "\n",
       "     ME XGB predicted  ME MLP predicted  \n",
       "0                9.00              8.18  \n",
       "1               20.32             18.47  \n",
       "2               25.12             22.83  \n",
       "3                9.13              8.30  \n",
       "4               10.08              9.16  \n",
       "..                ...               ...  \n",
       "99              28.50             25.91  \n",
       "100             28.57             25.97  \n",
       "101              9.70              0.00  \n",
       "102             11.23             10.21  \n",
       "103              4.95              0.00  \n",
       "\n",
       "[104 rows x 16 columns]"
      ]
     },
     "execution_count": 41,
     "metadata": {},
     "output_type": "execute_result"
    }
   ],
   "source": [
    "# Prediction of ME\n",
    "\n",
    "y_ME_gp= gp.predict(x)\n",
    "df['ME GP predicted']=y_ME_gp\n",
    "\n",
    "y_ME_xgb= xgb.predict(x)\n",
    "df['ME XGB predicted']=y_ME_xgb\n",
    "\n",
    "y_ME_mlp= gp.predict(x)\n",
    "df['ME MLP predicted']=y_ME_mlp\n",
    "\n",
    "df"
   ]
  },
  {
   "cell_type": "code",
   "execution_count": 42,
   "id": "38a1cad5",
   "metadata": {},
   "outputs": [],
   "source": [
    "df.to_csv('ME_pred.csv')"
   ]
  },
  {
   "cell_type": "markdown",
   "id": "eeefa5cf",
   "metadata": {},
   "source": [
    "### Conclusion\n",
    "- XGBRegressor performs better than GP and ANN."
   ]
  }
 ],
 "metadata": {
  "kernelspec": {
   "display_name": "Python 3 (ipykernel)",
   "language": "python",
   "name": "python3"
  },
  "language_info": {
   "codemirror_mode": {
    "name": "ipython",
    "version": 3
   },
   "file_extension": ".py",
   "mimetype": "text/x-python",
   "name": "python",
   "nbconvert_exporter": "python",
   "pygments_lexer": "ipython3",
   "version": "3.9.12"
  }
 },
 "nbformat": 4,
 "nbformat_minor": 5
}
